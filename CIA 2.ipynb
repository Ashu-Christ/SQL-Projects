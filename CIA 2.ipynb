{
 "cells": [
  {
   "cell_type": "code",
   "execution_count": null,
   "id": "8b944616-9a36-4689-9018-82ecdf0612ca",
   "metadata": {},
   "outputs": [],
   "source": [
    "import pandas as pd\n",
    "import sqlite3 \n"
   ]
  },
  {
   "cell_type": "code",
   "execution_count": null,
   "id": "dc4af82d-d77b-4102-af04-55adb277b654",
   "metadata": {},
   "outputs": [],
   "source": [
    "def rrsql(query):\n",
    "    return pd.read_sql_query(query,conn)"
   ]
  },
  {
   "cell_type": "code",
   "execution_count": null,
   "id": "b4bd043e-677b-45ad-a05d-87e3c5382b37",
   "metadata": {},
   "outputs": [],
   "source": [
    "df=pd.read_csv(\"Churn_Modelling.csv\")\n",
    "df.info()"
   ]
  },
  {
   "cell_type": "code",
   "execution_count": null,
   "id": "b4e2b2dd-385e-4fb3-8516-b6d51e0cf2f3",
   "metadata": {},
   "outputs": [],
   "source": [
    "df.columns"
   ]
  },
  {
   "cell_type": "code",
   "execution_count": null,
   "id": "b03df2a2-a4d7-4373-8389-e6212ca4546f",
   "metadata": {},
   "outputs": [],
   "source": [
    "df['Exited'] = df['Exited'].map({1: 'Yes', 0: 'No'})\n",
    "df['IsActiveMember'] = df['IsActiveMember'].map({1: 'Yes', 0: 'No'})\n",
    "df['HasCrCard'] = df['HasCrCard'].map({1: 'Yes', 0: 'No'})"
   ]
  },
  {
   "cell_type": "code",
   "execution_count": null,
   "id": "5467dfd3-8e3c-4b9a-8e05-5de3733951d1",
   "metadata": {},
   "outputs": [],
   "source": [
    "customers_df=df[['CustomerId', 'Surname','Gender', 'Age','Geography']].drop_duplicates().reset_index(drop=True)"
   ]
  },
  {
   "cell_type": "code",
   "execution_count": null,
   "id": "142749e4-b770-412e-9b08-85aa248adb8d",
   "metadata": {},
   "outputs": [],
   "source": [
    "accounts_df=df[['CustomerId','CreditScore','Tenure', 'Balance', 'NumOfProducts', 'HasCrCard',\n",
    "       'IsActiveMember', 'EstimatedSalary']].drop_duplicates().reset_index(drop=True)"
   ]
  },
  {
   "cell_type": "code",
   "execution_count": null,
   "id": "a09074ba-37a1-42ce-8847-9aa4c4915092",
   "metadata": {},
   "outputs": [],
   "source": [
    "status_df=df[[\"CustomerId\",'Exited']].reset_index()\n",
    "status_df.rename(columns={\"index\":\"StatusID\"},inplace=True)\n",
    "status_df"
   ]
  },
  {
   "cell_type": "code",
   "execution_count": null,
   "id": "4cfd2a10-6eb5-4840-ae19-617d4f45a58c",
   "metadata": {},
   "outputs": [],
   "source": [
    "conn=sqlite3.connect(\"Model.db\")"
   ]
  },
  {
   "cell_type": "code",
   "execution_count": null,
   "id": "f15d0024-cce6-4f73-93e7-84e942f1dc53",
   "metadata": {},
   "outputs": [],
   "source": [
    "c=conn.cursor()"
   ]
  },
  {
   "cell_type": "code",
   "execution_count": null,
   "id": "178a39bd-e4d6-4351-aeed-734530f78eaa",
   "metadata": {},
   "outputs": [],
   "source": [
    "c.execute(\"\"\"CREATE TABLE IF NOT EXISTS customer(\n",
    "\"CustomerId\" TEXT PRIMARY KEY UNIQUE,'Surname' TEXT,'Gender' TEXT,\n",
    "'Age' INT,'Geography' TEXT)\"\"\")"
   ]
  },
  {
   "cell_type": "code",
   "execution_count": null,
   "id": "88225223-4c19-4e19-a608-6acb705a3207",
   "metadata": {},
   "outputs": [],
   "source": [
    "c.execute(\"\"\"CREATE TABLE IF NOT EXISTS account(\n",
    "'CustomerId' TEXT,'CreditScore' INT,'Tenure' INT, 'Balance' INT,\n",
    "'NumOfProducts' INT, 'HasCrCard' TEXT,\n",
    "'IsActiveMember' TEXT, 'EstimatedSalary' INT,\n",
    "FOREIGN KEY (CustomerId) REFERENCES customer(CustomerId))\"\"\")"
   ]
  },
  {
   "cell_type": "code",
   "execution_count": null,
   "id": "f6841d5b-d986-420c-8b83-b384f0fba9c6",
   "metadata": {},
   "outputs": [],
   "source": [
    "c.execute(\"\"\"CREATE TABLE IF NOT EXISTS status(\n",
    "\"StatusID\" INT PRIMARY KEY, \"CustomerId\" TEXT, \"Exited\" Text,\n",
    "FOREIGN KEY (CustomerId) REFERENCES customer(CustomerId))\"\"\")"
   ]
  },
  {
   "cell_type": "code",
   "execution_count": null,
   "id": "8e549b7b-fda4-4cab-9c06-b16fe5565639",
   "metadata": {},
   "outputs": [],
   "source": [
    "customers_df.to_sql(\"customer\",conn,if_exists=\"replace\",index=False)\n",
    "accounts_df.to_sql(\"account\",conn,if_exists=\"replace\",index=False)\n",
    "status_df.to_sql(\"status\",conn,if_exists=\"replace\",index=False)"
   ]
  },
  {
   "cell_type": "code",
   "execution_count": null,
   "id": "e85004ae-320b-4226-8fe9-e930b30b2407",
   "metadata": {},
   "outputs": [],
   "source": [
    "# 1. Customers who have exited, sorted by highest balance\n",
    "rrsql(\"\"\"\n",
    "SELECT c.CustomerId, c.Surname, a.Balance\n",
    "FROM customer c\n",
    "JOIN account a ON c.CustomerId = a.CustomerId\n",
    "JOIN status s ON c.CustomerId = s.CustomerId\n",
    "WHERE s.Exited = 'Yes'\n",
    "ORDER BY a.Balance DESC;\n",
    "\"\"\")"
   ]
  },
  {
   "cell_type": "code",
   "execution_count": null,
   "id": "fdc1a0ee-360a-49c9-af8f-a8b7c8138912",
   "metadata": {},
   "outputs": [],
   "source": [
    "# 2. Count of active vs inactive members\n",
    "rrsql(\"\"\"\n",
    "SELECT a.IsActiveMember, COUNT(*) AS Count\n",
    "FROM account a \n",
    "GROUP BY a.IsActiveMember;\n",
    "\"\"\")"
   ]
  },
  {
   "cell_type": "code",
   "execution_count": null,
   "id": "1888c2c7-695b-4eb2-9f00-6cde320d05e1",
   "metadata": {},
   "outputs": [],
   "source": [
    " # 3. Customers without a credit card\n",
    "rrsql(\"\"\"\n",
    "SELECT c.CustomerId, c.Surname\n",
    "FROM customer c\n",
    "JOIN account a ON c.CustomerId = a.CustomerId\n",
    "WHERE a.HasCrCard = 'No';\n",
    "\"\"\")"
   ]
  },
  {
   "cell_type": "code",
   "execution_count": null,
   "id": "b4ba8dcd-1f99-4128-a7b7-334cb86608db",
   "metadata": {},
   "outputs": [],
   "source": [
    "# 4. Exited customers from each geography\n",
    "rrsql(\"\"\"\n",
    "SELECT c.Geography, COUNT(*) AS ExitedCount\n",
    "FROM customer c\n",
    "JOIN status s ON c.CustomerId = s.CustomerId\n",
    "WHERE s.Exited = 'Yes'\n",
    "GROUP BY c.Geography;\n",
    "\"\"\")"
   ]
  },
  {
   "cell_type": "code",
   "execution_count": null,
   "id": "8ef56871-68e6-45e5-8c1e-cf63287a0f4a",
   "metadata": {},
   "outputs": [],
   "source": [
    "# 5. Customers with salary above 100000\n",
    "rrsql(\"\"\"\n",
    "SELECT c.CustomerId, c.Surname, a.EstimatedSalary\n",
    "FROM customer c\n",
    "JOIN account a ON c.CustomerId = a.CustomerId\n",
    "WHERE a.EstimatedSalary > 100000;\n",
    "\"\"\")"
   ]
  },
  {
   "cell_type": "code",
   "execution_count": null,
   "id": "82782e77-6059-4fad-a039-b0d61a0eaa0a",
   "metadata": {},
   "outputs": [],
   "source": [
    "# 6. Tenure distribution for customers who exited\n",
    "rrsql(\"\"\"\n",
    "SELECT a.Tenure, COUNT(*) AS CustomerCount\n",
    "FROM account a\n",
    "JOIN status s ON a.CustomerId = s.CustomerId\n",
    "WHERE s.Exited = 'Yes'\n",
    "GROUP BY a.Tenure\n",
    "ORDER BY a.Tenure;\n",
    "\"\"\")\n"
   ]
  },
  {
   "cell_type": "code",
   "execution_count": null,
   "id": "52efcb25-53e3-4727-891e-fe07340b6b2e",
   "metadata": {},
   "outputs": [],
   "source": [
    "# 7. Average credit score by geography\n",
    "rrsql(\"\"\"\n",
    "SELECT c.Geography, AVG(a.CreditScore) AS AvgCreditScore\n",
    "FROM customer c\n",
    "JOIN account a ON c.CustomerId = a.CustomerId\n",
    "GROUP BY c.Geography;\n",
    "\"\"\")"
   ]
  },
  {
   "cell_type": "code",
   "execution_count": null,
   "id": "b90b64fb-806c-4582-b628-51ecafa2e292",
   "metadata": {},
   "outputs": [],
   "source": [
    "# 8. Customers aged above 50 who are active members\n",
    "rrsql(\"\"\"\n",
    "SELECT c.CustomerId, c.Surname, c.Age, a.IsActiveMember\n",
    "FROM customer c\n",
    "JOIN account a ON c.CustomerId = a.CustomerId\n",
    "WHERE c.Age > 50 AND a.IsActiveMember =\"Yes\";\n",
    "\"\"\")"
   ]
  },
  {
   "cell_type": "code",
   "execution_count": null,
   "id": "75035c8d-3083-4396-97be-5a7e3bd1211a",
   "metadata": {},
   "outputs": [],
   "source": [
    "# 9. Average balance by geography\n",
    "rrsql(\"\"\"\n",
    "SELECT c.Geography, AVG(a.Balance) AS AvgBalance\n",
    "FROM customer c\n",
    "JOIN account a ON c.CustomerId = a.CustomerId\n",
    "GROUP BY c.Geography;\n",
    "\"\"\")"
   ]
  },
  {
   "cell_type": "code",
   "execution_count": null,
   "id": "8ddd2208-6620-4c23-b5ad-e267bddf3d98",
   "metadata": {},
   "outputs": [],
   "source": [
    "# 10. Average credit score of active vs inactive member\n",
    "rrsql(\"\"\"\n",
    "SELECT a.IsActiveMember, AVG(a.CreditScore) AS AvgCreditScore\n",
    "FROM account a\n",
    "GROUP BY a.IsActiveMember;\n",
    "\"\"\")\n"
   ]
  },
  {
   "cell_type": "code",
   "execution_count": null,
   "id": "a12dd6d1-5daa-4ee3-b102-e3e986d51673",
   "metadata": {},
   "outputs": [],
   "source": [
    "# 11.Find the top 10 customers with the highest balance who are still active members and haven’t exited\n",
    "rrsql(\"\"\"\n",
    "SELECT c.CustomerId, c.Surname, a.Balance, a.IsActiveMember, s.Exited\n",
    "FROM customer c\n",
    "JOIN account a ON c.CustomerId = a.CustomerId\n",
    "JOIN status s ON c.CustomerId = s.CustomerId\n",
    "WHERE a.IsActiveMember = \"Yes\" AND s.Exited =\"No\"\n",
    "ORDER BY a.Balance DESC\n",
    "LIMIT 10;\n",
    "\"\"\")\n"
   ]
  },
  {
   "cell_type": "code",
   "execution_count": null,
   "id": "363a8dab-b1ae-4cb2-bf22-81a8a23f5bb1",
   "metadata": {},
   "outputs": [],
   "source": [
    "# 12.Find customers older than 50 years with a credit score below 600\n",
    "\n",
    "rrsql(\"\"\"\n",
    "SELECT c.CustomerId, c.Surname, c.Age, a.CreditScore\n",
    "FROM customer c\n",
    "JOIN account a ON c.CustomerId = a.CustomerId\n",
    "WHERE c.Age > 50 AND a.CreditScore < 600\n",
    "ORDER BY a.CreditScore ASC;\n",
    "\"\"\")"
   ]
  },
  {
   "cell_type": "code",
   "execution_count": null,
   "id": "4e79da9b-2310-4335-a991-bb50dcbc6ddd",
   "metadata": {},
   "outputs": [],
   "source": []
  }
 ],
 "metadata": {
  "kernelspec": {
   "display_name": "Python 3 (ipykernel)",
   "language": "python",
   "name": "python3"
  },
  "language_info": {
   "codemirror_mode": {
    "name": "ipython",
    "version": 3
   },
   "file_extension": ".py",
   "mimetype": "text/x-python",
   "name": "python",
   "nbconvert_exporter": "python",
   "pygments_lexer": "ipython3",
   "version": "3.12.4"
  }
 },
 "nbformat": 4,
 "nbformat_minor": 5
}
